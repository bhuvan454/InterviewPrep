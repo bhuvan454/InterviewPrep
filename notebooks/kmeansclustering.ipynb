{
 "cells": [
  {
   "cell_type": "code",
   "execution_count": 4,
   "metadata": {},
   "outputs": [
    {
     "name": "stdout",
     "output_type": "stream",
     "text": [
      "(100, 5) (50, 5)\n",
      "   sepal length (cm)  sepal width (cm)  petal length (cm)  petal width (cm)  \\\n",
      "0                6.3               3.3                4.7               1.6   \n",
      "1                4.7               3.2                1.3               0.2   \n",
      "2                5.8               2.7                3.9               1.2   \n",
      "3                4.8               3.0                1.4               0.3   \n",
      "4                7.1               3.0                5.9               2.1   \n",
      "\n",
      "   target  \n",
      "0       1  \n",
      "1       0  \n",
      "2       1  \n",
      "3       0  \n",
      "4       2        sepal length (cm)  sepal width (cm)  petal length (cm)  petal width (cm)  \\\n",
      "100                4.7               3.2                1.6               0.2   \n",
      "101                5.0               3.5                1.3               0.3   \n",
      "102                6.3               2.5                5.0               1.9   \n",
      "103                5.8               2.7                5.1               1.9   \n",
      "104                4.9               3.1                1.5               0.2   \n",
      "\n",
      "     target  \n",
      "100       0  \n",
      "101       0  \n",
      "102       2  \n",
      "103       2  \n",
      "104       0  \n"
     ]
    }
   ],
   "source": [
    "\n",
    "import numpy as np\n",
    "import pandas as pd\n",
    "from sklearn import datasets\n",
    "import sys\n",
    "sys.path.append(\"/workspaces/InterviewPrep/ML_algos\")\n",
    "from kmeans import KMeans\n",
    "import matplotlib.pyplot as plt\n",
    "\n",
    "\n",
    "iris = datasets.load_iris()\n",
    "df = pd.DataFrame(data=iris.data, columns=iris.feature_names)\n",
    "df['target'] = iris.target\n",
    "df = df.sample(frac=1).reset_index(drop=True)\n",
    "\n",
    "train = df.iloc[:100]\n",
    "test = df.iloc[100:]\n",
    "\n",
    "print(train.shape, test.shape)\n",
    "print(train.head(), test.head())\n",
    "\n",
    "\n",
    "X_train = train.drop('target', axis=1).values\n",
    "y_train = train['target'].values\n",
    "X_test = test.drop('target', axis=1).values\n",
    "y_test = test['target'].values"
   ]
  },
  {
   "cell_type": "code",
   "execution_count": 5,
   "metadata": {},
   "outputs": [
    {
     "ename": "ValueError",
     "evalue": "operands could not be broadcast together with shapes (100,) (3,) ",
     "output_type": "error",
     "traceback": [
      "\u001b[0;31m---------------------------------------------------------------------------\u001b[0m",
      "\u001b[0;31mValueError\u001b[0m                                Traceback (most recent call last)",
      "Cell \u001b[0;32mIn[5], line 3\u001b[0m\n\u001b[1;32m      1\u001b[0m kmeans \u001b[38;5;241m=\u001b[39m KMeans(k\u001b[38;5;241m=\u001b[39m\u001b[38;5;241m3\u001b[39m, max_iters\u001b[38;5;241m=\u001b[39m\u001b[38;5;241m100\u001b[39m)\n\u001b[0;32m----> 3\u001b[0m \u001b[43mkmeans\u001b[49m\u001b[38;5;241;43m.\u001b[39;49m\u001b[43mfit\u001b[49m\u001b[43m(\u001b[49m\u001b[43mX_train\u001b[49m\u001b[43m)\u001b[49m\n\u001b[1;32m      4\u001b[0m preds \u001b[38;5;241m=\u001b[39m kmeans\u001b[38;5;241m.\u001b[39mpredict(X_test)\n\u001b[1;32m      5\u001b[0m \u001b[38;5;28mprint\u001b[39m(preds)\n",
      "File \u001b[0;32m/workspaces/InterviewPrep/ML_algos/kmeans.py:37\u001b[0m, in \u001b[0;36mKMeans.fit\u001b[0;34m(self, X)\u001b[0m\n\u001b[1;32m     35\u001b[0m \u001b[38;5;28mself\u001b[39m\u001b[38;5;241m.\u001b[39mclusters \u001b[38;5;241m=\u001b[39m \u001b[38;5;28mself\u001b[39m\u001b[38;5;241m.\u001b[39m_assign_clusters(X)\n\u001b[1;32m     36\u001b[0m new_clusters \u001b[38;5;241m=\u001b[39m \u001b[38;5;28mself\u001b[39m\u001b[38;5;241m.\u001b[39m_update_centroids(X)\n\u001b[0;32m---> 37\u001b[0m \u001b[38;5;28;01mif\u001b[39;00m np\u001b[38;5;241m.\u001b[39mall(\u001b[38;5;28;43mself\u001b[39;49m\u001b[38;5;241;43m.\u001b[39;49m\u001b[43mclusters\u001b[49m\u001b[43m \u001b[49m\u001b[38;5;241;43m==\u001b[39;49m\u001b[43m \u001b[49m\u001b[43mnew_clusters\u001b[49m):\n\u001b[1;32m     38\u001b[0m     \u001b[38;5;28;01mbreak\u001b[39;00m\n\u001b[1;32m     39\u001b[0m \u001b[38;5;28mself\u001b[39m\u001b[38;5;241m.\u001b[39mclusters \u001b[38;5;241m=\u001b[39m new_clusters\n",
      "\u001b[0;31mValueError\u001b[0m: operands could not be broadcast together with shapes (100,) (3,) "
     ]
    }
   ],
   "source": [
    "\n",
    "kmeans = KMeans(k=3, max_iters=100)\n",
    "\n",
    "kmeans.fit(X_train)\n",
    "preds = kmeans.predict(X_test)\n",
    "print(preds)"
   ]
  },
  {
   "cell_type": "code",
   "execution_count": null,
   "metadata": {},
   "outputs": [],
   "source": []
  },
  {
   "cell_type": "code",
   "execution_count": 6,
   "metadata": {},
   "outputs": [
    {
     "name": "stdout",
     "output_type": "stream",
     "text": [
      "(100, 5) (50, 5)\n",
      "   sepal length (cm)  sepal width (cm)  petal length (cm)  petal width (cm)  \\\n",
      "0                6.3               3.3                4.7               1.6   \n",
      "1                4.7               3.2                1.3               0.2   \n",
      "2                5.8               2.7                3.9               1.2   \n",
      "3                4.8               3.0                1.4               0.3   \n",
      "4                7.1               3.0                5.9               2.1   \n",
      "\n",
      "   target  \n",
      "0       1  \n",
      "1       0  \n",
      "2       1  \n",
      "3       0  \n",
      "4       2        sepal length (cm)  sepal width (cm)  petal length (cm)  petal width (cm)  \\\n",
      "100                4.7               3.2                1.6               0.2   \n",
      "101                5.0               3.5                1.3               0.3   \n",
      "102                6.3               2.5                5.0               1.9   \n",
      "103                5.8               2.7                5.1               1.9   \n",
      "104                4.9               3.1                1.5               0.2   \n",
      "\n",
      "     target  \n",
      "100       0  \n",
      "101       0  \n",
      "102       2  \n",
      "103       2  \n",
      "104       0  \n"
     ]
    },
    {
     "ename": "ValueError",
     "evalue": "operands could not be broadcast together with shapes (100,) (3,) ",
     "output_type": "error",
     "traceback": [
      "\u001b[0;31m---------------------------------------------------------------------------\u001b[0m",
      "\u001b[0;31mValueError\u001b[0m                                Traceback (most recent call last)",
      "Cell \u001b[0;32mIn[6], line 31\u001b[0m\n\u001b[1;32m     29\u001b[0m \u001b[38;5;66;03m# Train the K-Means model\u001b[39;00m\n\u001b[1;32m     30\u001b[0m kmeans \u001b[38;5;241m=\u001b[39m KMeans(k\u001b[38;5;241m=\u001b[39m\u001b[38;5;241m3\u001b[39m, max_iters\u001b[38;5;241m=\u001b[39m\u001b[38;5;241m100\u001b[39m)\n\u001b[0;32m---> 31\u001b[0m \u001b[43mkmeans\u001b[49m\u001b[38;5;241;43m.\u001b[39;49m\u001b[43mfit\u001b[49m\u001b[43m(\u001b[49m\u001b[43mX_train\u001b[49m\u001b[43m)\u001b[49m\n\u001b[1;32m     33\u001b[0m \u001b[38;5;66;03m# Predict clusters for test data\u001b[39;00m\n\u001b[1;32m     34\u001b[0m test_clusters \u001b[38;5;241m=\u001b[39m kmeans\u001b[38;5;241m.\u001b[39mpredict(X_test)\n",
      "File \u001b[0;32m/workspaces/InterviewPrep/ML_algos/kmeans.py:37\u001b[0m, in \u001b[0;36mKMeans.fit\u001b[0;34m(self, X)\u001b[0m\n\u001b[1;32m     35\u001b[0m \u001b[38;5;28mself\u001b[39m\u001b[38;5;241m.\u001b[39mclusters \u001b[38;5;241m=\u001b[39m \u001b[38;5;28mself\u001b[39m\u001b[38;5;241m.\u001b[39m_assign_clusters(X)\n\u001b[1;32m     36\u001b[0m new_clusters \u001b[38;5;241m=\u001b[39m \u001b[38;5;28mself\u001b[39m\u001b[38;5;241m.\u001b[39m_update_centroids(X)\n\u001b[0;32m---> 37\u001b[0m \u001b[38;5;28;01mif\u001b[39;00m np\u001b[38;5;241m.\u001b[39mall(\u001b[38;5;28;43mself\u001b[39;49m\u001b[38;5;241;43m.\u001b[39;49m\u001b[43mclusters\u001b[49m\u001b[43m \u001b[49m\u001b[38;5;241;43m==\u001b[39;49m\u001b[43m \u001b[49m\u001b[43mnew_clusters\u001b[49m):\n\u001b[1;32m     38\u001b[0m     \u001b[38;5;28;01mbreak\u001b[39;00m\n\u001b[1;32m     39\u001b[0m \u001b[38;5;28mself\u001b[39m\u001b[38;5;241m.\u001b[39mclusters \u001b[38;5;241m=\u001b[39m new_clusters\n",
      "\u001b[0;31mValueError\u001b[0m: operands could not be broadcast together with shapes (100,) (3,) "
     ]
    }
   ],
   "source": [
    "import numpy as np\n",
    "import pandas as pd\n",
    "from sklearn import datasets\n",
    "import sys\n",
    "import matplotlib.pyplot as plt\n",
    "\n",
    "sys.path.append(\"/workspaces/InterviewPrep/ML_algos\")\n",
    "from kmeans import KMeans\n",
    "\n",
    "# Load Iris dataset\n",
    "iris = datasets.load_iris()\n",
    "df = pd.DataFrame(data=iris.data, columns=iris.feature_names)\n",
    "df['target'] = iris.target\n",
    "df = df.sample(frac=1).reset_index(drop=True)\n",
    "\n",
    "# Split the dataset into training and test sets\n",
    "train = df.iloc[:100]\n",
    "test = df.iloc[100:]\n",
    "\n",
    "print(train.shape, test.shape)\n",
    "print(train.head(), test.head())\n",
    "\n",
    "# Prepare training and test data\n",
    "X_train = train.drop('target', axis=1).values\n",
    "y_train = train['target'].values\n",
    "X_test = test.drop('target', axis=1).values\n",
    "y_test = test['target'].values\n",
    "\n",
    "# Train the K-Means model\n",
    "kmeans = KMeans(k=3, max_iters=100)\n",
    "kmeans.fit(X_train)\n",
    "\n",
    "# Predict clusters for test data\n",
    "test_clusters = kmeans.predict(X_test)\n",
    "\n",
    "# Print centroids and inertia\n",
    "print(\"Centroids:\\n\", kmeans.get_centroids())\n",
    "print(\"Inertia:\", kmeans.get_inertia(X_train))\n",
    "print(\"Silhouette Score:\", kmeans.get_silhouette_score(X_train))\n",
    "\n",
    "# Visualize the clusters\n",
    "plt.scatter(X_test[:, 0], X_test[:, 1], c=test_clusters, cmap='viridis')\n",
    "plt.scatter(kmeans.get_centroids()[:, 0], kmeans.get_centroids()[:, 1], s=300, c='red')\n",
    "plt.xlabel(iris.feature_names[0])\n",
    "plt.ylabel(iris.feature_names[1])\n",
    "plt.title('K-Means Clustering on Iris Test Data')\n",
    "plt.show()\n"
   ]
  },
  {
   "cell_type": "code",
   "execution_count": null,
   "metadata": {},
   "outputs": [],
   "source": []
  }
 ],
 "metadata": {
  "kernelspec": {
   "display_name": "Python 3",
   "language": "python",
   "name": "python3"
  },
  "language_info": {
   "codemirror_mode": {
    "name": "ipython",
    "version": 3
   },
   "file_extension": ".py",
   "mimetype": "text/x-python",
   "name": "python",
   "nbconvert_exporter": "python",
   "pygments_lexer": "ipython3",
   "version": "3.10.13"
  }
 },
 "nbformat": 4,
 "nbformat_minor": 2
}
